{
 "cells": [
  {
   "cell_type": "code",
   "execution_count": 3,
   "id": "ee804a73-abce-467e-95c5-f0b8c253652e",
   "metadata": {
    "tags": []
   },
   "outputs": [
    {
     "name": "stdout",
     "output_type": "stream",
     "text": [
      "the length of string is: 13\n"
     ]
    }
   ],
   "source": [
    "# question no. 1\n",
    "\n",
    "\n",
    "\n",
    "my_string = \"hello, world!\"\n",
    "\n",
    "\n",
    "# using len()\n",
    "\n",
    "string_length = len(my_string)\n",
    "\n",
    "print(f\"the length of string is: {string_length}\")"
   ]
  },
  {
   "cell_type": "code",
   "execution_count": 6,
   "id": "c5492d99-0e54-419d-adf3-c87ca27faa2f",
   "metadata": {
    "tags": []
   },
   "outputs": [
    {
     "name": "stdout",
     "output_type": "stream",
     "text": [
      "Jammu Kashmir\n"
     ]
    }
   ],
   "source": [
    "# question no. 2\n",
    "\n",
    "\n",
    "string1 = \"Jammu\"\n",
    "string2 = \"Kashmir\"\n",
    "\n",
    "concatenated_string = string1 + \" \" + string2\n",
    "\n",
    "print(concatenated_string )"
   ]
  },
  {
   "cell_type": "code",
   "execution_count": 9,
   "id": "0d476fc2-830d-47ee-93a4-f9888025cc95",
   "metadata": {
    "tags": []
   },
   "outputs": [
    {
     "name": "stdout",
     "output_type": "stream",
     "text": [
      "New , D\n"
     ]
    }
   ],
   "source": [
    "# question no. 3\n",
    "\n",
    "\n",
    "my_string = \"New , Dehli\"\n",
    "\n",
    "slicing_string = my_string[0:7]\n",
    "\n",
    "print(slicing_string)"
   ]
  },
  {
   "cell_type": "code",
   "execution_count": 10,
   "id": "1eec9bf3-ac66-4952-a3f8-ff1cf3557f5e",
   "metadata": {
    "tags": []
   },
   "outputs": [
    {
     "name": "stdout",
     "output_type": "stream",
     "text": [
      "VIJAY, SHARMA\n",
      "vijay, sharma\n"
     ]
    }
   ],
   "source": [
    "# question no.4\n",
    "\n",
    "my_string = \"Vijay, Sharma\"\n",
    "\n",
    "#converting uppercase\n",
    "\n",
    "uppercase_string = my_string.upper()\n",
    "print(uppercase_string)\n",
    "\n",
    "\n",
    "#conveting lowercase\n",
    "\n",
    "lowercase_string = my_string .lower()\n",
    "print(lowercase_string)\n"
   ]
  },
  {
   "cell_type": "code",
   "execution_count": null,
   "id": "5dfe5267-2387-4b27-8c69-7c9d00c7ea3b",
   "metadata": {},
   "outputs": [],
   "source": [
    "# question no. 5\n",
    "\n",
    "\n",
    "my_string = \"apple, mango, cherry, banana\"\n",
    "\n"
   ]
  }
 ],
 "metadata": {
  "kernelspec": {
   "display_name": "Python 3 (ipykernel)",
   "language": "python",
   "name": "python3"
  },
  "language_info": {
   "codemirror_mode": {
    "name": "ipython",
    "version": 3
   },
   "file_extension": ".py",
   "mimetype": "text/x-python",
   "name": "python",
   "nbconvert_exporter": "python",
   "pygments_lexer": "ipython3",
   "version": "3.11.5"
  }
 },
 "nbformat": 4,
 "nbformat_minor": 5
}
