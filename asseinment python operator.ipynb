{
 "cells": [
  {
   "cell_type": "code",
   "execution_count": 1,
   "id": "dc7e0647-3bfc-436b-a2c8-2e0ebd528088",
   "metadata": {
    "tags": []
   },
   "outputs": [
    {
     "name": "stdin",
     "output_type": "stream",
     "text": [
      "enter first number 25\n",
      "enter second number 15\n"
     ]
    },
    {
     "name": "stdout",
     "output_type": "stream",
     "text": [
      "sum: 40\n",
      "difference: 10\n",
      "product: 375\n",
      "quotient(natural number): 1\n",
      "quotient(decimal value): 1.6666666666666667\n",
      "remainder: 10\n"
     ]
    }
   ],
   "source": [
    "a = int(input(\"enter first number\"))\n",
    "b = int(input(\"enter second number\"))\n",
    "print(\"sum:\",a + b)\n",
    "print(\"difference:\",a - b)\n",
    "print(\"product:\",a*b)\n",
    "print(\"quotient(natural number):\",a//b)\n",
    "print(\"quotient(decimal value):\",a/b)\n",
    "print(\"remainder:\",a%b)\n"
   ]
  },
  {
   "cell_type": "code",
   "execution_count": 1,
   "id": "edc53fe6-2635-43af-ae0a-25f4d5d76186",
   "metadata": {},
   "outputs": [
    {
     "name": "stdout",
     "output_type": "stream",
     "text": [
      "5\n"
     ]
    }
   ],
   "source": [
    "#que2\n",
    "#assignment operator\n",
    "\n",
    "x = 5\n",
    "print(x)"
   ]
  },
  {
   "cell_type": "code",
   "execution_count": 2,
   "id": "11f88d62-85ba-4db5-a844-c783797e0f14",
   "metadata": {
    "tags": []
   },
   "outputs": [
    {
     "name": "stdout",
     "output_type": "stream",
     "text": [
      "10\n"
     ]
    }
   ],
   "source": [
    "x = x + 5\n",
    "print(x)"
   ]
  },
  {
   "cell_type": "code",
   "execution_count": 3,
   "id": "2359fbfa-88ec-47ab-bd0f-8f784b7cbadf",
   "metadata": {
    "tags": []
   },
   "outputs": [
    {
     "name": "stdout",
     "output_type": "stream",
     "text": [
      "15\n"
     ]
    }
   ],
   "source": [
    "x += 5\n",
    "print(x)"
   ]
  },
  {
   "cell_type": "code",
   "execution_count": 5,
   "id": "24b5f3f6-7281-4e4a-9fbf-8c295f817cea",
   "metadata": {
    "tags": []
   },
   "outputs": [
    {
     "name": "stdout",
     "output_type": "stream",
     "text": [
      "10\n"
     ]
    }
   ],
   "source": [
    "x = x-5\n",
    "print(x)"
   ]
  },
  {
   "cell_type": "code",
   "execution_count": 6,
   "id": "e2feb987-59b7-4a24-87a5-343e20280020",
   "metadata": {
    "tags": []
   },
   "outputs": [
    {
     "name": "stdout",
     "output_type": "stream",
     "text": [
      "5\n"
     ]
    }
   ],
   "source": [
    "x -= 5\n",
    "print(x)"
   ]
  },
  {
   "cell_type": "code",
   "execution_count": 8,
   "id": "acd8ce27-5f52-4a72-a81e-472f3692da89",
   "metadata": {
    "tags": []
   },
   "outputs": [
    {
     "name": "stdin",
     "output_type": "stream",
     "text": [
      "enter first number 10\n",
      "enter second number 20\n"
     ]
    },
    {
     "name": "stdout",
     "output_type": "stream",
     "text": [
      "second number is greater than first\n"
     ]
    }
   ],
   "source": [
    "#que no.3\n",
    "\n",
    "n = int(input(\"enter first number\"))\n",
    "m = int(input(\"enter second number\"))\n",
    "if n>m:\n",
    "    print(\"first number is greater than second\")\n",
    "else:\n",
    "    print(\"second number is greater than first\")"
   ]
  },
  {
   "cell_type": "code",
   "execution_count": 11,
   "id": "3483e03c-5065-4bb1-baa8-4d9a441dc733",
   "metadata": {
    "tags": []
   },
   "outputs": [
    {
     "name": "stdout",
     "output_type": "stream",
     "text": [
      "False\n"
     ]
    }
   ],
   "source": [
    "#que no.4\n",
    "\n",
    "x = 18\n",
    "y = 20\n",
    "\n",
    "print(x == 10 and x < y and x == y)"
   ]
  },
  {
   "cell_type": "code",
   "execution_count": 12,
   "id": "a8d66889-7503-4c8a-8dfa-4fb20a18bee9",
   "metadata": {
    "tags": []
   },
   "outputs": [
    {
     "name": "stdout",
     "output_type": "stream",
     "text": [
      "True\n"
     ]
    }
   ],
   "source": [
    "x = 18\n",
    "y = 20\n",
    "\n",
    "print(x == 10 or x < y or x == y)"
   ]
  },
  {
   "cell_type": "code",
   "execution_count": 16,
   "id": "04cec4cf-df01-4eb6-b241-028afb898e02",
   "metadata": {
    "tags": []
   },
   "outputs": [
    {
     "name": "stdout",
     "output_type": "stream",
     "text": [
      "False\n"
     ]
    }
   ],
   "source": [
    "x = 18\n",
    "y = 20\n",
    "\n",
    "print(not x != 10)"
   ]
  },
  {
   "cell_type": "code",
   "execution_count": 17,
   "id": "17669e83-652e-4d1f-99d9-4abbf60a12fc",
   "metadata": {
    "tags": []
   },
   "outputs": [],
   "source": [
    "a = 10"
   ]
  },
  {
   "cell_type": "code",
   "execution_count": 18,
   "id": "f2c1a642-1f8d-4f5b-907e-cb5e1b34bfcb",
   "metadata": {
    "tags": []
   },
   "outputs": [
    {
     "name": "stdout",
     "output_type": "stream",
     "text": [
      "10\n"
     ]
    }
   ],
   "source": [
    "print(a)"
   ]
  },
  {
   "cell_type": "code",
   "execution_count": 20,
   "id": "108171e9-53dd-4f04-9595-92d35fc2e267",
   "metadata": {
    "tags": []
   },
   "outputs": [
    {
     "name": "stdout",
     "output_type": "stream",
     "text": [
      "10 18\n",
      "a\n",
      "140734792438856 140734792439112\n",
      "hello\n",
      "20\n",
      "a_b\n"
     ]
    }
   ],
   "source": [
    "#que no. 5\n",
    "\n",
    "a = 10\n",
    "b = 18\n",
    "print(a, b)\n",
    "print(\"a\")\n",
    "print(id(a),id(b))\n",
    "\n",
    "c = \"hello\"\n",
    "print(c)\n",
    "\n",
    "\n",
    "a1 = 20\n",
    "print(a1)\n",
    "\n",
    "a_b = 35\n",
    "print('a_b')\n",
    "\n",
    "\n"
   ]
  },
  {
   "cell_type": "code",
   "execution_count": 22,
   "id": "de2168a2-d9ab-4a38-a710-9aadd3921956",
   "metadata": {
    "tags": []
   },
   "outputs": [
    {
     "name": "stdout",
     "output_type": "stream",
     "text": [
      "0\n",
      "14\n",
      "-11\n",
      "14\n",
      "2\n",
      "40\n"
     ]
    }
   ],
   "source": [
    "#que no.6\n",
    "\n",
    "\n",
    "a = 10\n",
    "b = 4\n",
    "print(a & b)\n",
    "print(a | b)\n",
    "print(~a)\n",
    "print(a ^ b)\n",
    "print(a >> 2)\n",
    "print(a << 2)"
   ]
  },
  {
   "cell_type": "code",
   "execution_count": 1,
   "id": "febd8508-d24f-4b73-9d69-0f57251eefdb",
   "metadata": {},
   "outputs": [
    {
     "name": "stdout",
     "output_type": "stream",
     "text": [
      "-5\n"
     ]
    }
   ],
   "source": [
    "#que no.7\n",
    "\n",
    "\n",
    "number = 5\n",
    "\n",
    "negative_number = -number\n",
    "\n",
    "print(negative_number)\n"
   ]
  },
  {
   "cell_type": "code",
   "execution_count": 2,
   "id": "0c6a9dcb-0bf8-428b-9314-58d4fe8a8273",
   "metadata": {
    "tags": []
   },
   "outputs": [
    {
     "name": "stdout",
     "output_type": "stream",
     "text": [
      "5\n"
     ]
    }
   ],
   "source": [
    "number = -5\n",
    "\n",
    "positive_number = -number\n",
    "\n",
    "print(positive_number)\n"
   ]
  },
  {
   "cell_type": "code",
   "execution_count": 3,
   "id": "50cee9ac-22cb-4141-b511-985e60a67804",
   "metadata": {
    "tags": []
   },
   "outputs": [
    {
     "name": "stdout",
     "output_type": "stream",
     "text": [
      "0\n"
     ]
    }
   ],
   "source": [
    "number = 0\n",
    "\n",
    "zero_number = -number\n",
    "\n",
    "print(zero_number)\n"
   ]
  },
  {
   "cell_type": "code",
   "execution_count": 4,
   "id": "77ec5699-3a55-477e-9608-e95cf96b4670",
   "metadata": {
    "tags": []
   },
   "outputs": [
    {
     "name": "stdout",
     "output_type": "stream",
     "text": [
      "30\n"
     ]
    }
   ],
   "source": [
    "# que. no. 8\n",
    "\n",
    "\n",
    "x = 20\n",
    "y = 30\n",
    "\n",
    "max_value = x if x > y else y\n",
    "\n",
    "print(max_value)\n",
    "\n"
   ]
  },
  {
   "cell_type": "code",
   "execution_count": 6,
   "id": "81057618-0a58-42d0-b3e9-d9136ee78ab4",
   "metadata": {
    "tags": []
   },
   "outputs": [
    {
     "name": "stdout",
     "output_type": "stream",
     "text": [
      "20\n"
     ]
    }
   ],
   "source": [
    "x = 20\n",
    "y = 30\n",
    "\n",
    "min_value = x if x < y else y\n",
    "\n",
    "print(min_value)\n",
    "\n"
   ]
  },
  {
   "cell_type": "code",
   "execution_count": null,
   "id": "fe720ae1-bf00-49d9-8375-22d32c75af53",
   "metadata": {},
   "outputs": [],
   "source": []
  }
 ],
 "metadata": {
  "kernelspec": {
   "display_name": "Python 3 (ipykernel)",
   "language": "python",
   "name": "python3"
  },
  "language_info": {
   "codemirror_mode": {
    "name": "ipython",
    "version": 3
   },
   "file_extension": ".py",
   "mimetype": "text/x-python",
   "name": "python",
   "nbconvert_exporter": "python",
   "pygments_lexer": "ipython3",
   "version": "3.11.5"
  }
 },
 "nbformat": 4,
 "nbformat_minor": 5
}
